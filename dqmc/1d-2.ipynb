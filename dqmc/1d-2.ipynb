{
 "cells": [
  {
   "cell_type": "code",
   "execution_count": 81,
   "metadata": {},
   "outputs": [],
   "source": [
    "import numpy as np\n",
    "import tensorflow as tf\n",
    "\n",
    "import matplotlib.pyplot as plt\n",
    "\n",
    "rng = np.random.default_rng(0)"
   ]
  },
  {
   "cell_type": "code",
   "execution_count": 295,
   "metadata": {},
   "outputs": [],
   "source": [
    "num_sites = 2\n",
    "\n",
    "tunneling_strength = 1\n",
    "interaction_strength = 10\n",
    "chemical_potential = 0\n",
    "\n",
    "imaginary_time_interval_duration = 1/5\n",
    "\n",
    "temperature = 1/2\n",
    "num_imaginary_time_intervals = 10\n",
    "imaginary_time_interval_duration = (1/temperature ) / num_imaginary_time_intervals\n",
    "\n",
    "stratonovich_interaction_strength = np.arccosh(np.exp((interaction_strength * imaginary_time_interval_duration)/2))"
   ]
  },
  {
   "cell_type": "code",
   "execution_count": 296,
   "metadata": {},
   "outputs": [],
   "source": [
    "def compute_tunneling():\n",
    "    tunneling = np.zeros((num_sites, num_sites))\n",
    "\n",
    "    tunneling += np.diag(np.ones(num_sites-1), k=-1)\n",
    "    tunneling += np.diag(np.ones(num_sites-1), k=+1)\n",
    "\n",
    "    tunneling[num_sites-1, 0] += 1\n",
    "    tunneling[0, num_sites-1] += 1\n",
    "\n",
    "    return -tunneling_strength * tunneling"
   ]
  },
  {
   "cell_type": "code",
   "execution_count": 297,
   "metadata": {},
   "outputs": [],
   "source": [
    "def compute_density():\n",
    "    return -chemical_potential * np.diag(np.ones(num_sites))"
   ]
  },
  {
   "cell_type": "code",
   "execution_count": 298,
   "metadata": {},
   "outputs": [],
   "source": [
    "def compute_kinetic(tunneling, density):\n",
    "    return imaginary_time_interval_duration * (tunneling + density)"
   ]
  },
  {
   "cell_type": "code",
   "execution_count": 299,
   "metadata": {},
   "outputs": [],
   "source": [
    "def compute_potential(field):\n",
    "    potential_up = stratonovich_interaction_strength * tf.linalg.diag(field.T)\n",
    "    potential_down = -potential_up\n",
    "\n",
    "    return np.array([potential_up, potential_down])"
   ]
  },
  {
   "cell_type": "code",
   "execution_count": 300,
   "metadata": {},
   "outputs": [],
   "source": [
    "def compute_propagator(potential):\n",
    "    propagator = np.zeros((2, num_sites, num_sites))\n",
    "\n",
    "    for spin in range(2):\n",
    "        product = np.eye(num_sites)\n",
    "        for imaginary_time_interval in range(num_imaginary_time_intervals-1, 0, -1):\n",
    "            product = tf.linalg.expm(kinetic) @ tf.linalg.expm(potential[spin][imaginary_time_interval]) @ product\n",
    "        propagator[spin] = tf.linalg.inv(np.eye(num_sites) + product)\n",
    "\n",
    "    return propagator"
   ]
  },
  {
   "cell_type": "code",
   "execution_count": 301,
   "metadata": {},
   "outputs": [],
   "source": [
    "def plot_propagator(propagator):\n",
    "    figure, axes = plt.subplots(1, 2)\n",
    "\n",
    "    axes[0].imshow(propagator[0])\n",
    "    axes[0].set_title(r\"$\\downarrow$\")\n",
    "\n",
    "    axes[1].imshow(propagator[1])\n",
    "    axes[1].set_title(r\"$\\uparrow$\")\n",
    "    \n",
    "    figure.show()"
   ]
  },
  {
   "cell_type": "code",
   "execution_count": 302,
   "metadata": {},
   "outputs": [
    {
     "data": {
      "text/plain": [
       "array([[ 0. , -0.4],\n",
       "       [-0.4,  0. ]])"
      ]
     },
     "execution_count": 302,
     "metadata": {},
     "output_type": "execute_result"
    }
   ],
   "source": [
    "kinetic = imaginary_time_interval_duration * (compute_tunneling() + compute_density())\n",
    "\n",
    "kinetic"
   ]
  },
  {
   "cell_type": "code",
   "execution_count": 303,
   "metadata": {},
   "outputs": [
    {
     "data": {
      "text/plain": [
       "array([[[0.94698221, 0.88496795],\n",
       "        [0.05120892, 0.04786264]],\n",
       "\n",
       "       [[0.05301779, 0.05120892],\n",
       "        [0.88496795, 0.95213736]]])"
      ]
     },
     "execution_count": 303,
     "metadata": {},
     "output_type": "execute_result"
    }
   ],
   "source": [
    "field = rng.choice([-1.0, +1.0], size=(num_sites, num_imaginary_time_intervals))\n",
    "potential = compute_potential(field)\n",
    "propagator = compute_propagator(potential)\n",
    "\n",
    "propagator"
   ]
  },
  {
   "cell_type": "code",
   "execution_count": 304,
   "metadata": {},
   "outputs": [],
   "source": [
    "for imaginary_time_interval in range(num_imaginary_time_intervals - 1, 0, -1):\n",
    "    for site in range(num_sites):\n",
    "        acceptance_ratio = ((1 + (1 - propagator[0][site, site]) * (np.exp(-2 * stratonovich_interaction_strength * field[site, imaginary_time_interval]) - 1)) * \n",
    "                            (1 + (1 - propagator[1][site, site]) * (np.exp(+2 * stratonovich_interaction_strength * field[site, imaginary_time_interval]) - 1)))\n",
    "\n",
    "        if rng.random() < acceptance_ratio: \n",
    "            field[site, imaginary_time_interval] *= -1\n",
    "            potential = compute_potential(field)\n",
    "            propagator = compute_propagator(potential)\n",
    "\n",
    "    for spin in range(2):\n",
    "        propagator[spin] = (tf.linalg.expm(kinetic) @ tf.linalg.expm(potential[spin, imaginary_time_interval])) @ propagator[spin] @ tf.linalg.inv(tf.linalg.expm(kinetic) @ tf.linalg.expm(potential[spin, imaginary_time_interval]))"
   ]
  },
  {
   "cell_type": "code",
   "execution_count": 305,
   "metadata": {},
   "outputs": [
    {
     "data": {
      "text/plain": [
       "array([[[0.81303938, 0.44915562],\n",
       "        [0.07338209, 0.8237061 ]],\n",
       "\n",
       "       [[0.18696062, 0.07338209],\n",
       "        [0.44915562, 0.1762939 ]]])"
      ]
     },
     "execution_count": 305,
     "metadata": {},
     "output_type": "execute_result"
    }
   ],
   "source": [
    "propagator"
   ]
  },
  {
   "cell_type": "code",
   "execution_count": 306,
   "metadata": {},
   "outputs": [
    {
     "data": {
      "text/plain": [
       "array([[0.18696062, 0.1762939 ],\n",
       "       [0.81303938, 0.8237061 ]])"
      ]
     },
     "execution_count": 306,
     "metadata": {},
     "output_type": "execute_result"
    }
   ],
   "source": [
    "occupation = 1 - np.einsum('sii -> si', propagator)\n",
    "occupation"
   ]
  },
  {
   "cell_type": "code",
   "execution_count": 307,
   "metadata": {},
   "outputs": [
    {
     "data": {
      "text/plain": [
       "array([0.15200634, 0.14521436])"
      ]
     },
     "execution_count": 307,
     "metadata": {},
     "output_type": "execute_result"
    }
   ],
   "source": [
    "doubles_occupancy = np.einsum('i, i -> i', (1 - np.diag(propagator[0])), (1 - np.diag(propagator[1])))\n",
    "doubles_occupancy"
   ]
  },
  {
   "cell_type": "code",
   "execution_count": null,
   "metadata": {},
   "outputs": [],
   "source": []
  },
  {
   "cell_type": "code",
   "execution_count": null,
   "metadata": {},
   "outputs": [],
   "source": []
  }
 ],
 "metadata": {
  "kernelspec": {
   "display_name": "fermi-hubbard-RvOQyKjx-py3.11",
   "language": "python",
   "name": "python3"
  },
  "language_info": {
   "codemirror_mode": {
    "name": "ipython",
    "version": 3
   },
   "file_extension": ".py",
   "mimetype": "text/x-python",
   "name": "python",
   "nbconvert_exporter": "python",
   "pygments_lexer": "ipython3",
   "version": "3.11.1"
  },
  "orig_nbformat": 4
 },
 "nbformat": 4,
 "nbformat_minor": 2
}
