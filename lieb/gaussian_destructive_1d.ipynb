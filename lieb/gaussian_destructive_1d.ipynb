{
 "cells": [
  {
   "cell_type": "markdown",
   "metadata": {},
   "source": [
    "<!-- $$\\text{OL}:V(x,y)=-V_-\\cos^2(2k_Lx)\\cos^2(2k_Ly)+V_+\\left(\\sqrt{2\\pi}\\sigma_+\\right)^2e^{-\\pi\\left(\\sqrt{2\\pi}\\sigma_+\\right)^2\\left({k_x}^2+{k_y}^2\\right)}$$ -->\n",
    "$$\\text{OL}:V(x,y)=-V_-\\cos^2(k_Lx)\\cos^2(k_Ly)+V_+e^{-\\left(\\frac{{x}^2+{y}^2}{2\\sigma^2}\\right)}$$\n",
    "\n",
    "The sinusoidal component is periodic with frequency $2k_L$ whereas the Gaussian component is periodic with frequency $k_L$. The full potential is, therefore, periodic with frequency $k_L$.\n",
    "\n",
    "Increasing $V_-$, the depth of the attractive sinusoidal square lattice potential, makes the dispersive bands interpolate from a $2k_L$-separated pair of half-parabolas to the $\\pm$-pair of sinusoids with wavelength $4k_L$ and amplitude $2t$ predicted by the tight-binding approximation.\n",
    "\n",
    "Increasing $V_+$, the amplitude of the repulsive Gaussian block-out potential, flattens the central band.\n",
    "\n",
    "Increasing $\\sigma_+$, the spread of the repulsive Gaussian block-out potential, flattens the central band and increases the separation between the central band the bottom dispersive band.\n",
    "\n",
    "$$\\text{TB}:\\;E_\\sigma(k_x,k_y)=\\sigma2t\\sqrt{\\cos^2\\left(\\frac{k_x}{2k_L}\\pi\\right)+\\cos^2\\left(\\frac{k_y}{2k_L}\\pi\\right)},\\; \\sigma\\in\\{-1,0,+1\\}$$"
   ]
  },
  {
   "cell_type": "code",
   "execution_count": null,
   "metadata": {},
   "outputs": [],
   "source": [
    "import numpy as np\n",
    "import tensorflow as tf\n",
    "\n",
    "import plotly.graph_objects as go\n",
    "from plotly.subplots import make_subplots\n",
    "\n",
    "from plotly.offline import init_notebook_mode\n",
    "from IPython.display import display, HTML\n",
    "\n",
    "init_notebook_mode()\n",
    "display(HTML('<script src=\"https://cdnjs.cloudflare.com/ajax/libs/mathjax/3.2.2/es5/tex-mml-svg.min.js\" integrity=\"sha512-4MXl9OmsJPCU3LySQiKq4baSCSNFha8CBJL7NVSmN+WJJNLhJUycJgGdxJlxAY2ih8jhP9juGYq2ThUihYBKIw==\" crossorigin=\"anonymous\" referrerpolicy=\"no-referrer\"></script>'))"
   ]
  },
  {
   "cell_type": "code",
   "execution_count": null,
   "metadata": {},
   "outputs": [],
   "source": [
    "num_quasimomenta = 99\n",
    "max_momentum_site = 9\n",
    "\n",
    "max_momentum_site_change = 2 * max_momentum_site\n",
    "num_momentum_sites = (max_momentum_site_change + 1) ** 2"
   ]
  },
  {
   "cell_type": "code",
   "execution_count": null,
   "metadata": {},
   "outputs": [],
   "source": [
    "quasimomentum = np.mgrid[0:2:num_quasimomenta*1j, 1:1:1j].reshape(2,-1).T # [k_L]\n",
    "\n",
    "momentum_site = np.mgrid[-max_momentum_site:max_momentum_site+1:1,\n",
    "                         -max_momentum_site:max_momentum_site+1:1].reshape(2,-1).T # Fundamental: k_L\n",
    "\n",
    "momentum = 2*momentum_site + quasimomentum[:, np.newaxis]\n",
    "kinetic = np.linalg.norm(momentum, axis=-1)**2\n",
    "\n",
    "momentum_site_change = momentum_site[:, np.newaxis] - momentum_site"
   ]
  },
  {
   "cell_type": "code",
   "execution_count": null,
   "metadata": {},
   "outputs": [],
   "source": [
    "def render_momentum_site_potential(attractive_strength, repulsive_strength, repulsive_spread):\n",
    "    attractive_potential = -1/16 * attractive_strength * np.pad(np.array([\n",
    "        [1, 0, 2, 0, 1],\n",
    "        [0, 0, 0, 0, 0],\n",
    "        [2, 0, 4, 0, 2],\n",
    "        [0, 0, 0, 0, 0],\n",
    "        [1, 0, 2, 0, 1]\n",
    "    ]), max_momentum_site_change - 2)\n",
    "\n",
    "    momentum_site = np.meshgrid(*(np.arange(-max_momentum_site_change, max_momentum_site_change+1),)*2)\n",
    "    repulsive_potential = repulsive_strength * (np.sqrt(2*np.pi) * repulsive_spread)**2 * np.exp(-np.pi * (np.sqrt(2*np.pi) * repulsive_spread)**2 * (momentum_site[0]**2 + momentum_site[1]**2))\n",
    "\n",
    "    return attractive_potential + repulsive_potential"
   ]
  },
  {
   "cell_type": "code",
   "execution_count": null,
   "metadata": {},
   "outputs": [],
   "source": [
    "def compute_spatial_potential(momentum_site_potential, num_points=0):\n",
    "    padded_momentum_site_potential = np.pad(momentum_site_potential, num_points)\n",
    "\n",
    "    position = np.fft.fftshift(np.fft.fftfreq(n=padded_momentum_site_potential.shape[0])) # [1/k_L]\n",
    "    spatial_potential = np.real(np.fft.fftshift(np.fft.fft2(np.fft.ifftshift(padded_momentum_site_potential))))\n",
    "\n",
    "    return position, spatial_potential"
   ]
  },
  {
   "cell_type": "code",
   "execution_count": null,
   "metadata": {},
   "outputs": [],
   "source": [
    "def compute_dispersion(momentum_site_potential):\n",
    "    potential = momentum_site_potential[\n",
    "        momentum_site_change[:, :, 0] + max_momentum_site_change,\n",
    "        momentum_site_change[:, :, 1] + max_momentum_site_change,\n",
    "    ]\n",
    "\n",
    "    energy = tf.linalg.diag(kinetic) + potential[np.newaxis, ...]\n",
    "\n",
    "    dispersion = tf.reshape(tf.linalg.eigvalsh(energy), (num_quasimomenta, num_momentum_sites))\n",
    "\n",
    "    return dispersion"
   ]
  },
  {
   "cell_type": "code",
   "execution_count": null,
   "metadata": {},
   "outputs": [],
   "source": [
    "def compute_tight_binding_parameters(dispersion):\n",
    "    width = np.max(dispersion[:, 2]) - np.min(dispersion[:, 2])\n",
    "    zero = np.max(dispersion[:, 1])\n",
    "    tunneling = width/2\n",
    "\n",
    "    return zero, tunneling"
   ]
  },
  {
   "cell_type": "code",
   "execution_count": null,
   "metadata": {},
   "outputs": [],
   "source": [
    "def compute_tight_binding_dispersion(zero, tunneling):\n",
    "    return np.array([-1, 0, +1])[:, np.newaxis] * 2*tunneling * np.abs(np.cos(quasimomentum[:, 0] * np.pi/2)) + zero"
   ]
  },
  {
   "cell_type": "code",
   "execution_count": null,
   "metadata": {},
   "outputs": [],
   "source": [
    "attractive_strength = 50\n",
    "repulsive_strength = 2\n",
    "repulsive_spread = 0.128\n",
    "\n",
    "momentum_site_potential = render_momentum_site_potential(attractive_strength, repulsive_strength, repulsive_spread)\n",
    "\n",
    "position, spatial_potential = compute_spatial_potential(momentum_site_potential, num_points=100)\n",
    "dispersion = compute_dispersion(momentum_site_potential)\n",
    "zero, tunneling = compute_tight_binding_parameters(dispersion)\n",
    "tight_binding_dispersion = compute_tight_binding_dispersion(zero, tunneling)\n",
    "\n",
    "figure = make_subplots(\n",
    "    rows=1, cols=2,\n",
    "    subplot_titles=(\n",
    "        rf\"$\\text{{Potential }} V(x)$\",\n",
    "        rf\"$\\text{{Dispersion }} E(k_x) \\longrightarrow (E_0/E_R={zero:.3f}, t/E_R={tunneling:.3f})$\"\n",
    "    )\n",
    ")\n",
    "\n",
    "for band in range(3):\n",
    "    figure.add_trace(go.Scatter(x=quasimomentum[:, 0], y=dispersion[:, band], name=fr\"$\\text{{OL}}: {['-', '0', '+'][band]}$\"), row=1, col=2)\n",
    "\n",
    "for band in range(3):\n",
    "    figure.add_trace(go.Scatter(x=quasimomentum[:, 0], y=tight_binding_dispersion[band], name=fr\"$\\text{{TB}}: {['-', '0', '+'][band]}$\", line=dict(dash='dash')), row=1, col=2)\n",
    "\n",
    "figure.update_layout(\n",
    "    xaxis2=dict(title=r\"$\\text{Quasimomentum }k_x/k_L$\"),\n",
    "    yaxis2=dict(title=r\"$\\text{Energy }E/E_R$\"),\n",
    ")\n",
    "\n",
    "figure.add_trace(go.Scatter(x=position, y=spatial_potential[:, spatial_potential.shape[1]//2], name=\"\"), row=1, col=1)\n",
    "figure.update_layout(\n",
    "    xaxis=dict(title=r\"$\\text{Position }xk_L$\"),\n",
    "    yaxis=dict(title=r\"$\\text{Energy }E/E_R$\"),\n",
    ")\n",
    "\n",
    "figure.update_layout(\n",
    "    title_text=fr\"$\\text{{Analysis @ }}(V_-/E_R={attractive_strength}; V_+/E_R={repulsive_strength}, \\sigma_+k_L={repulsive_spread})$\",\n",
    "    autosize=False, width=1500, height=750)\n",
    "\n",
    "figure.show()"
   ]
  },
  {
   "cell_type": "markdown",
   "metadata": {},
   "source": [
    "# Attractive Strength"
   ]
  },
  {
   "cell_type": "code",
   "execution_count": null,
   "metadata": {},
   "outputs": [],
   "source": [
    "attractive_strengths = np.linspace(0, 50, 101)\n",
    "repulsive_strength = 5\n",
    "repulsive_spread = 0.05\n",
    "\n",
    "momentum_site_potentials = [ render_momentum_site_potential(attractive_strength, repulsive_strength, repulsive_spread) for attractive_strength in attractive_strengths]\n",
    "spatial_potentials = [ compute_spatial_potential(momentum_site_potential, num_points=100) for momentum_site_potential in momentum_site_potentials ]\n",
    "dispersions = [ compute_dispersion(momentum_site_potential) for momentum_site_potential in momentum_site_potentials ]\n",
    "tight_binding_parameters = [ compute_tight_binding_parameters(dispersion) for dispersion in dispersions ]\n",
    "tight_binding_dispersions = [ compute_tight_binding_dispersion(*parameters) for parameters in tight_binding_parameters ]"
   ]
  },
  {
   "cell_type": "code",
   "execution_count": null,
   "metadata": {},
   "outputs": [],
   "source": [
    "figure = make_subplots(\n",
    "    rows=1, cols=2,\n",
    "    subplot_titles=(\n",
    "        rf\"$\\text{{Potential }} V(x)$\",\n",
    "        rf\"$\\text{{Dispersion }} E(k_x)$\"\n",
    "    )\n",
    ")\n",
    "\n",
    "for (position, spatial_potential), dispersion, tight_binding_dispersion in zip(spatial_potentials, dispersions, tight_binding_dispersions):\n",
    "    for band in range(3):\n",
    "        figure.add_trace(go.Scatter(x=quasimomentum[:, 0], y=dispersion[:, band], \n",
    "                                    name=fr\"$\\text{{OL}}: {['-', '0', '+'][band]}$\", \n",
    "                                    visible=False), row=1, col=2)\n",
    "    for band in range(3):\n",
    "        figure.add_trace(go.Scatter(x=quasimomentum[:, 0], y=tight_binding_dispersion[band],\n",
    "                                    name=fr\"$\\text{{TB}}: {['-', '0', '+'][band]}$\", \n",
    "                                    line=dict(dash='dash'), visible=False), row=1, col=2)\n",
    "    figure.add_trace(go.Scatter(x=position, y=spatial_potential[:, spatial_potential.shape[1]//2], name=\"\", visible=False), row=1, col=1)\n",
    "\n",
    "num_step_traces = 7\n",
    "\n",
    "for i in range(num_step_traces):\n",
    "    figure.data[i].visible = True\n",
    "\n",
    "steps = []\n",
    "for i, (attractive_strength, (zero, tunneling)) in enumerate(zip(attractive_strengths, tight_binding_parameters)):\n",
    "    step = dict(\n",
    "        method=\"update\",\n",
    "        label=f\"{attractive_strength:.1f}\",\n",
    "        args=[{\"visible\": [False] * len(figure.data)},\n",
    "              {\"title\": fr\"$\\text{{Analysis @ }}(V_-/E_R={attractive_strength:.1f}; V_+/E_R={repulsive_strength:.1f}, \\sigma_+k_L={repulsive_spread:.1f}) \\longrightarrow (E_0/E_R={zero:.3f}, t/E_R={tunneling:.3f})$\"},\n",
    "              ],\n",
    "    )\n",
    "    for j in range(num_step_traces):\n",
    "        step[\"args\"][0][\"visible\"][num_step_traces*i + j] = True\n",
    "    steps.append(step)\n",
    "\n",
    "attractive_strength = attractive_strengths[0]\n",
    "zero, tunneling = tight_binding_parameters[0]\n",
    "figure.update_layout(\n",
    "    title=dict(text=fr\"$\\text{{Analysis @ }}(V_-/E_R={attractive_strength:.1f}; V_+/E_R={repulsive_strength:.1f}, \\sigma_+k_L={repulsive_spread:.1f}) \\longrightarrow (E_0/E_R={zero:.3f}, t/E_R={tunneling:.3f})$\", font=dict(size=30)),\n",
    "    xaxis=dict(title=r\"$\\text{Position }xk_L$\"),\n",
    "    yaxis=dict(title=r\"$\\text{Energy }E/E_R$\"),\n",
    "    xaxis2=dict(title=r\"$\\text{Quasimomentum }k_x/k_L$\"),\n",
    "    yaxis2=dict(title=r\"$\\text{Energy }E/E_R$\"),\n",
    "    sliders=[dict(active=0, steps=steps)],\n",
    "    autosize=False, width=1500, height=750\n",
    ")\n",
    "\n",
    "figure.show()"
   ]
  },
  {
   "cell_type": "markdown",
   "metadata": {},
   "source": [
    "# Repulsive Strength"
   ]
  },
  {
   "cell_type": "code",
   "execution_count": null,
   "metadata": {},
   "outputs": [],
   "source": [
    "attractive_strength = 50\n",
    "repulsive_strengths = np.linspace(0, 50, 100)\n",
    "repulsive_spread = 0.128\n",
    "\n",
    "momentum_site_potentials = [ render_momentum_site_potential(attractive_strength, repulsive_strength, repulsive_spread) for repulsive_strength in repulsive_strengths]\n",
    "dispersions = [ compute_dispersion(momentum_site_potential) for momentum_site_potential in momentum_site_potentials ]\n",
    "tight_binding_parameters = [ compute_tight_binding_parameters(dispersion) for dispersion in dispersions ]\n",
    "tight_binding_dispersions = [ compute_tight_binding_dispersion(*parameters) for parameters in tight_binding_parameters ]"
   ]
  },
  {
   "cell_type": "code",
   "execution_count": null,
   "metadata": {},
   "outputs": [],
   "source": [
    "show_tight_binding = True\n",
    "\n",
    "figure = go.Figure()\n",
    "\n",
    "for dispersion, tight_binding_dispersion in zip(dispersions, tight_binding_dispersions):\n",
    "    for band in range(3):\n",
    "        figure.add_trace(go.Scatter(x=quasimomentum[:, 0], y=dispersion[:, band], name=f\"OL {band}\", visible=False))\n",
    "    if show_tight_binding:\n",
    "        for band in range(3):\n",
    "            figure.add_trace(go.Scatter(x=quasimomentum[:, 0], y=tight_binding_dispersion[band], name=f\"TB {band}\", line=dict(dash='dash'), visible=False))\n",
    "\n",
    "num_step_traces = 3 * (2 if show_tight_binding else 1)\n",
    "\n",
    "for i in range(num_step_traces):\n",
    "    figure.data[i].visible = True\n",
    "\n",
    "steps = []\n",
    "for i, repulsive_strength in enumerate(repulsive_strengths):\n",
    "    step = dict(\n",
    "        method=\"update\",\n",
    "        args=[{\"visible\": [False] * len(figure.data)},\n",
    "              {\"title\": f\"Repulsive Strength: {repulsive_strength:.2f}\"}],\n",
    "    )\n",
    "    for j in range(num_step_traces):\n",
    "        step[\"args\"][0][\"visible\"][num_step_traces*i + j] = True\n",
    "    steps.append(step)\n",
    "\n",
    "figure.update_layout(\n",
    "    title=\"Dispersion\",\n",
    "    sliders=[dict(active=0, steps=steps)],\n",
    "    autosize=False, width=750, height=750\n",
    ")\n",
    "\n",
    "figure.show()"
   ]
  },
  {
   "cell_type": "markdown",
   "metadata": {},
   "source": [
    "# Repulsive Spread"
   ]
  },
  {
   "cell_type": "code",
   "execution_count": null,
   "metadata": {},
   "outputs": [],
   "source": [
    "attractive_strength = 50\n",
    "repulsive_strength = 50\n",
    "repulsive_spreads = np.linspace(0, 0.15, 100)\n",
    "\n",
    "momentum_site_potentials = [ render_momentum_site_potential(attractive_strength, repulsive_strength, repulsive_spread) for repulsive_spread in repulsive_spreads]\n",
    "dispersions = [ compute_dispersion(momentum_site_potential) for momentum_site_potential in momentum_site_potentials ]\n",
    "tight_binding_dispersions = [ compute_tight_binding_dispersion(dispersion) for dispersion in dispersions ]"
   ]
  },
  {
   "cell_type": "code",
   "execution_count": null,
   "metadata": {},
   "outputs": [],
   "source": [
    "show_tight_binding = False\n",
    "\n",
    "figure = go.Figure()\n",
    "\n",
    "for dispersion, tight_binding_dispersion in zip(dispersions, tight_binding_dispersions):\n",
    "    for band in range(3):\n",
    "        figure.add_trace(go.Scatter(x=quasimomentum[:, 0], y=dispersion[:, band], name=f\"OL {band}\", visible=False))\n",
    "    if show_tight_binding:\n",
    "        for band in range(3):\n",
    "            figure.add_trace(go.Scatter(x=quasimomentum[:, 0], y=tight_binding_dispersion[band], name=f\"TB {band}\", line=dict(dash='dash'), visible=False))\n",
    "\n",
    "num_step_traces = 3 * (2 if show_tight_binding else 1)\n",
    "\n",
    "for i in range(num_step_traces):\n",
    "    figure.data[i].visible = True\n",
    "\n",
    "steps = []\n",
    "for i, repulsive_spread in enumerate(repulsive_spreads):\n",
    "    step = dict(\n",
    "        method=\"update\",\n",
    "        args=[{\"visible\": [False] * len(figure.data)},\n",
    "              {\"title\": f\"Repulsive Spread: {repulsive_spread:.2f}\"}],\n",
    "    )\n",
    "    for j in range(num_step_traces):\n",
    "        step[\"args\"][0][\"visible\"][num_step_traces*i + j] = True\n",
    "    steps.append(step)\n",
    "\n",
    "figure.update_layout(\n",
    "    title=\"Dispersion\",\n",
    "    sliders=[dict(active=0, steps=steps)],\n",
    "    autosize=False, width=750, height=750\n",
    ")\n",
    "\n",
    "figure.show()"
   ]
  }
 ],
 "metadata": {
  "kernelspec": {
   "display_name": "fermi-hubbard-RvOQyKjx-py3.11",
   "language": "python",
   "name": "python3"
  },
  "language_info": {
   "codemirror_mode": {
    "name": "ipython",
    "version": 3
   },
   "file_extension": ".py",
   "mimetype": "text/x-python",
   "name": "python",
   "nbconvert_exporter": "python",
   "pygments_lexer": "ipython3",
   "version": "3.11.1"
  },
  "orig_nbformat": 4
 },
 "nbformat": 4,
 "nbformat_minor": 2
}
